{
 "cells": [
  {
   "attachments": {},
   "cell_type": "markdown",
   "metadata": {},
   "source": [
    "# Set-up"
   ]
  },
  {
   "cell_type": "code",
   "execution_count": 1,
   "metadata": {},
   "outputs": [],
   "source": [
    "import os\n",
    "import GEOparse"
   ]
  },
  {
   "cell_type": "code",
   "execution_count": 2,
   "metadata": {},
   "outputs": [],
   "source": [
    "# Choose the current dataset we are working with\n",
    "dataset_name = \"Zhu2023_sc-islet_scRNA-seq\"\n",
    "geo_id = \"GSE202497\""
   ]
  },
  {
   "cell_type": "code",
   "execution_count": 3,
   "metadata": {},
   "outputs": [
    {
     "data": {
      "text/plain": [
       "('/cellar/users/aklie/data/datasets',\n",
       " '/cellar/users/aklie/data/datasets/Zhu2023_sc-islet_scRNA-seq/bin/data_acquisition',\n",
       " '/cellar/users/aklie/data/datasets/Zhu2023_sc-islet_scRNA-seq/annotation')"
      ]
     },
     "execution_count": 3,
     "metadata": {},
     "output_type": "execute_result"
    }
   ],
   "source": [
    "# Set-up directories\n",
    "base_dir = \"/cellar/users/aklie/data/datasets\"\n",
    "cwd = os.path.join(base_dir, dataset_name, \"bin\", \"data_acquisition\")\n",
    "annotation_dir = os.path.join(base_dir, dataset_name, \"annotation\")\n",
    "base_dir, cwd, annotation_dir"
   ]
  },
  {
   "cell_type": "code",
   "execution_count": 4,
   "metadata": {},
   "outputs": [
    {
     "name": "stderr",
     "output_type": "stream",
     "text": [
      "24-Oct-2023 09:35:54 DEBUG utils - Directory /cellar/users/aklie/data/datasets/Zhu2023_sc-islet_scRNA-seq/bin/data_acquisition already exists. Skipping.\n",
      "24-Oct-2023 09:35:54 INFO GEOparse - Downloading ftp://ftp.ncbi.nlm.nih.gov/geo/series/GSE202nnn/GSE202497/soft/GSE202497_family.soft.gz to /cellar/users/aklie/data/datasets/Zhu2023_sc-islet_scRNA-seq/bin/data_acquisition/GSE202497_family.soft.gz\n",
      "100%|██████████| 3.07k/3.07k [00:00<00:00, 9.42kB/s]\n",
      "24-Oct-2023 09:35:55 DEBUG downloader - Size validation passed\n",
      "24-Oct-2023 09:35:55 DEBUG downloader - Moving /tmp/tmpchpwa7a_ to /cellar/users/aklie/data/datasets/Zhu2023_sc-islet_scRNA-seq/bin/data_acquisition/GSE202497_family.soft.gz\n",
      "24-Oct-2023 09:35:55 DEBUG downloader - Successfully downloaded ftp://ftp.ncbi.nlm.nih.gov/geo/series/GSE202nnn/GSE202497/soft/GSE202497_family.soft.gz\n",
      "24-Oct-2023 09:35:55 INFO GEOparse - Parsing /cellar/users/aklie/data/datasets/Zhu2023_sc-islet_scRNA-seq/bin/data_acquisition/GSE202497_family.soft.gz: \n",
      "24-Oct-2023 09:35:55 DEBUG GEOparse - DATABASE: GeoMiame\n",
      "24-Oct-2023 09:35:55 DEBUG GEOparse - SERIES: GSE202497\n",
      "24-Oct-2023 09:35:55 DEBUG GEOparse - PLATFORM: GPL18573\n",
      "24-Oct-2023 09:35:55 DEBUG GEOparse - SAMPLE: GSM6123264\n",
      "24-Oct-2023 09:35:55 DEBUG GEOparse - SAMPLE: GSM6123265\n",
      "24-Oct-2023 09:35:56 DEBUG GEOparse - SAMPLE: GSM6123266\n",
      "24-Oct-2023 09:35:56 DEBUG GEOparse - SAMPLE: GSM6123267\n",
      "24-Oct-2023 09:35:56 DEBUG GEOparse - SAMPLE: GSM6123268\n"
     ]
    }
   ],
   "source": [
    "gse = GEOparse.get_GEO(geo=geo_id, destdir=cwd)"
   ]
  },
  {
   "cell_type": "code",
   "execution_count": 5,
   "metadata": {},
   "outputs": [
    {
     "data": {
      "text/plain": [
       "{'title': ['Improving stem cell-derived pancreatic islets using single-cell multiome-inferred regulomes [SC-islet scRNA-seq]'],\n",
       " 'geo_accession': ['GSE202497'],\n",
       " 'status': ['Public on Mar 02 2023'],\n",
       " 'submission_date': ['May 08 2022'],\n",
       " 'last_update_date': ['Jun 02 2023'],\n",
       " 'pubmed_id': ['37040771'],\n",
       " 'summary': ['Pancreatic islet cells derived from human pluripotent stem cells hold great promise for modeling and treating diabetes. Differences between stem cell-derived and primary islets remain, but molecular insights to inform improvements are limited. Here, we acquire single-cell transcriptomes and accessible chromatin profiles during in vitro islet differentiation and from primary childhood and adult pancreas for comparison. We delineate major cell types, define their regulomes, and describe spatiotemporal regulatory relationships between transcription factors. CDX2 emerged as a regulator of enterochromaffin-like cells, which we show resemble a previously unrecognized, transient CDX2-expressing β-cell-related population in fetal pancreas, arguing against a non-pancreatic origin as proposed. Furthermore, we observe insufficient activation of signal-dependent transcriptional programs during in vitro β-cell maturation and identify sex hormones as drivers of childhood β-cell proliferation. Altogether, our analysis provides a comprehensive understanding of cell fate acquisition in stem cell-derived islets and a framework for manipulating cell identities and maturity.'],\n",
       " 'overall_design': ['In this analysis, we used single cell RNA-seq (scRNA-seq) to profile 25,686 cells during human pluripotent stem cell differentiation into islets at D11, D14, D21, D32, D39. We characterized transcriptomic signatures of pancreatic progenitors, endocrine progenitors, and fully differentiated SC-islet endocrine cell types. Through integrative analysis with snATAC-seq data obtained from the same batch of differentiation, we established a gene regulatory network to describe gene regulatory mechanisms of islet lineage progression in vitro.'],\n",
       " 'type': ['Expression profiling by high throughput sequencing'],\n",
       " 'contributor': ['Maike,,Sander'],\n",
       " 'sample_id': ['GSM6123264',\n",
       "  'GSM6123265',\n",
       "  'GSM6123266',\n",
       "  'GSM6123267',\n",
       "  'GSM6123268'],\n",
       " 'contact_name': ['Maike,,Sander'],\n",
       " 'contact_email': ['masander@ucsd.edu'],\n",
       " 'contact_institute': ['UC San Diego'],\n",
       " 'contact_address': ['2880 Torrey Pines Scenic Dr.'],\n",
       " 'contact_city': ['La Jolla'],\n",
       " 'contact_state': ['CA'],\n",
       " 'contact_zip/postal_code': ['92037'],\n",
       " 'contact_country': ['USA'],\n",
       " 'supplementary_file': ['ftp://ftp.ncbi.nlm.nih.gov/geo/series/GSE202nnn/GSE202497/suppl/GSE202497_all.barcodes.txt.gz',\n",
       "  'ftp://ftp.ncbi.nlm.nih.gov/geo/series/GSE202nnn/GSE202497/suppl/GSE202497_all.genes.txt.gz',\n",
       "  'ftp://ftp.ncbi.nlm.nih.gov/geo/series/GSE202nnn/GSE202497/suppl/GSE202497_all.mtx.gz',\n",
       "  'ftp://ftp.ncbi.nlm.nih.gov/geo/series/GSE202nnn/GSE202497/suppl/GSE202497_final_cluster.h5ad.gz',\n",
       "  'ftp://ftp.ncbi.nlm.nih.gov/geo/series/GSE202nnn/GSE202497/suppl/GSE202497_raw.h5ad.gz'],\n",
       " 'platform_id': ['GPL18573'],\n",
       " 'platform_taxid': ['9606'],\n",
       " 'sample_taxid': ['9606'],\n",
       " 'relation': ['SubSeries of: GSE202500',\n",
       "  'BioProject: https://www.ncbi.nlm.nih.gov/bioproject/PRJNA836327']}"
      ]
     },
     "execution_count": 5,
     "metadata": {},
     "output_type": "execute_result"
    }
   ],
   "source": [
    "gse.metadata"
   ]
  },
  {
   "cell_type": "code",
   "execution_count": 6,
   "metadata": {},
   "outputs": [
    {
     "data": {
      "text/plain": [
       "('ftp://ftp.ncbi.nlm.nih.gov/geo/series/GSE202nnn/GSE202497/suppl/GSE202497_all.barcodes.txt.gz',\n",
       " 'ftp://ftp.ncbi.nlm.nih.gov/geo/series/GSE202nnn/GSE202497/suppl/GSE202497_all.genes.txt.gz',\n",
       " 'ftp://ftp.ncbi.nlm.nih.gov/geo/series/GSE202nnn/GSE202497/suppl/GSE202497_all.mtx.gz',\n",
       " 'ftp://ftp.ncbi.nlm.nih.gov/geo/series/GSE202nnn/GSE202497/suppl/GSE202497_final_cluster.h5ad.gz',\n",
       " 'ftp://ftp.ncbi.nlm.nih.gov/geo/series/GSE202nnn/GSE202497/suppl/GSE202497_raw.h5ad.gz')"
      ]
     },
     "execution_count": 6,
     "metadata": {},
     "output_type": "execute_result"
    }
   ],
   "source": [
    "barcodes = gse.metadata[\"supplementary_file\"][0]\n",
    "genes = gse.metadata[\"supplementary_file\"][1]\n",
    "matrix = gse.metadata[\"supplementary_file\"][2]\n",
    "cell_clustering = gse.metadata[\"supplementary_file\"][3]\n",
    "raw_h5ad = gse.metadata[\"supplementary_file\"][4]\n",
    "barcodes, genes, matrix, cell_clustering, raw_h5ad"
   ]
  },
  {
   "cell_type": "code",
   "execution_count": 7,
   "metadata": {},
   "outputs": [
    {
     "name": "stdout",
     "output_type": "stream",
     "text": [
      "--2023-10-24 09:38:18--  ftp://ftp.ncbi.nlm.nih.gov/geo/series/GSE202nnn/GSE202497/suppl/GSE202497_all.barcodes.txt.gz\n",
      "           => ‘/cellar/users/aklie/data/datasets/Zhu2023_sc-islet_scRNA-seq/annotation/GSE202497_all.barcodes.txt.gz’\n",
      "Resolving ftp.ncbi.nlm.nih.gov (ftp.ncbi.nlm.nih.gov)... 130.14.250.11, 130.14.250.12, 2607:f220:41e:250::7, ...\n",
      "Connecting to ftp.ncbi.nlm.nih.gov (ftp.ncbi.nlm.nih.gov)|130.14.250.11|:21... connected.\n",
      "Logging in as anonymous ... Logged in!\n",
      "==> SYST ... done.    ==> PWD ... done.\n",
      "==> TYPE I ... done.  ==> CWD (1) /geo/series/GSE202nnn/GSE202497/suppl ... done.\n",
      "==> SIZE GSE202497_all.barcodes.txt.gz ... 117152\n",
      "==> PASV ... done.    ==> RETR GSE202497_all.barcodes.txt.gz ... done.\n",
      "Length: 117152 (114K) (unauthoritative)\n",
      "\n",
      "GSE202497_all.barco 100%[===================>] 114.41K   533KB/s    in 0.2s    \n",
      "\n",
      "2023-10-24 09:38:20 (533 KB/s) - ‘/cellar/users/aklie/data/datasets/Zhu2023_sc-islet_scRNA-seq/annotation/GSE202497_all.barcodes.txt.gz’ saved [117152]\n",
      "\n",
      "--2023-10-24 09:38:21--  ftp://ftp.ncbi.nlm.nih.gov/geo/series/GSE202nnn/GSE202497/suppl/GSE202497_all.genes.txt.gz\n",
      "           => ‘/cellar/users/aklie/data/datasets/Zhu2023_sc-islet_scRNA-seq/annotation/GSE202497_all.genes.txt.gz’\n",
      "Resolving ftp.ncbi.nlm.nih.gov (ftp.ncbi.nlm.nih.gov)... 130.14.250.12, 130.14.250.11, 2607:f220:41e:250::7, ...\n",
      "Connecting to ftp.ncbi.nlm.nih.gov (ftp.ncbi.nlm.nih.gov)|130.14.250.12|:21... connected.\n",
      "Logging in as anonymous ... Logged in!\n",
      "==> SYST ... done.    ==> PWD ... done.\n",
      "==> TYPE I ... done.  ==> CWD (1) /geo/series/GSE202nnn/GSE202497/suppl ... done.\n",
      "==> SIZE GSE202497_all.genes.txt.gz ... 126641\n",
      "==> PASV ... done.    ==> RETR GSE202497_all.genes.txt.gz ... done.\n",
      "Length: 126641 (124K) (unauthoritative)\n",
      "\n",
      "GSE202497_all.genes 100%[===================>] 123.67K   582KB/s    in 0.2s    \n",
      "\n",
      "2023-10-24 09:38:22 (582 KB/s) - ‘/cellar/users/aklie/data/datasets/Zhu2023_sc-islet_scRNA-seq/annotation/GSE202497_all.genes.txt.gz’ saved [126641]\n",
      "\n",
      "--2023-10-24 09:38:24--  ftp://ftp.ncbi.nlm.nih.gov/geo/series/GSE202nnn/GSE202497/suppl/GSE202497_all.mtx.gz\n",
      "           => ‘/cellar/users/aklie/data/datasets/Zhu2023_sc-islet_scRNA-seq/annotation/GSE202497_all.mtx.gz’\n",
      "Resolving ftp.ncbi.nlm.nih.gov (ftp.ncbi.nlm.nih.gov)... 130.14.250.11, 130.14.250.12, 2607:f220:41e:250::7, ...\n",
      "Connecting to ftp.ncbi.nlm.nih.gov (ftp.ncbi.nlm.nih.gov)|130.14.250.11|:21... connected.\n",
      "Logging in as anonymous ... Logged in!\n",
      "==> SYST ... done.    ==> PWD ... done.\n",
      "==> TYPE I ... done.  ==> CWD (1) /geo/series/GSE202nnn/GSE202497/suppl ... done.\n",
      "==> SIZE GSE202497_all.mtx.gz ... 374388137\n",
      "==> PASV ... done.    ==> RETR GSE202497_all.mtx.gz ... done.\n",
      "Length: 374388137 (357M) (unauthoritative)\n",
      "\n",
      "GSE202497_all.mtx.g 100%[===================>] 357.04M  28.1MB/s    in 13s     \n",
      "\n",
      "2023-10-24 09:38:38 (26.5 MB/s) - ‘/cellar/users/aklie/data/datasets/Zhu2023_sc-islet_scRNA-seq/annotation/GSE202497_all.mtx.gz’ saved [374388137]\n",
      "\n",
      "--2023-10-24 09:38:39--  ftp://ftp.ncbi.nlm.nih.gov/geo/series/GSE202nnn/GSE202497/suppl/GSE202497_final_cluster.h5ad.gz\n",
      "           => ‘/cellar/users/aklie/data/datasets/Zhu2023_sc-islet_scRNA-seq/annotation/GSE202497_final_cluster.h5ad.gz’\n",
      "Resolving ftp.ncbi.nlm.nih.gov (ftp.ncbi.nlm.nih.gov)... 130.14.250.11, 130.14.250.12, 2607:f220:41f:250::229, ...\n",
      "Connecting to ftp.ncbi.nlm.nih.gov (ftp.ncbi.nlm.nih.gov)|130.14.250.11|:21... connected.\n",
      "Logging in as anonymous ... Logged in!\n",
      "==> SYST ... done.    ==> PWD ... done.\n",
      "==> TYPE I ... done.  ==> CWD (1) /geo/series/GSE202nnn/GSE202497/suppl ... done.\n",
      "==> SIZE GSE202497_final_cluster.h5ad.gz ... 263190158\n",
      "==> PASV ... done.    ==> RETR GSE202497_final_cluster.h5ad.gz ... done.\n",
      "Length: 263190158 (251M) (unauthoritative)\n",
      "\n",
      "GSE202497_final_clu 100%[===================>] 251.00M  15.9MB/s    in 15s     \n",
      "\n",
      "2023-10-24 09:38:55 (16.5 MB/s) - ‘/cellar/users/aklie/data/datasets/Zhu2023_sc-islet_scRNA-seq/annotation/GSE202497_final_cluster.h5ad.gz’ saved [263190158]\n",
      "\n",
      "--2023-10-24 09:38:56--  ftp://ftp.ncbi.nlm.nih.gov/geo/series/GSE202nnn/GSE202497/suppl/GSE202497_raw.h5ad.gz\n",
      "           => ‘/cellar/users/aklie/data/datasets/Zhu2023_sc-islet_scRNA-seq/annotation/GSE202497_raw.h5ad.gz’\n",
      "Resolving ftp.ncbi.nlm.nih.gov (ftp.ncbi.nlm.nih.gov)... 130.14.250.12, 130.14.250.11, 2607:f220:41f:250::229, ...\n",
      "Connecting to ftp.ncbi.nlm.nih.gov (ftp.ncbi.nlm.nih.gov)|130.14.250.12|:21... connected.\n",
      "Logging in as anonymous ... Logged in!\n",
      "==> SYST ... done.    ==> PWD ... done.\n",
      "==> TYPE I ... done.  ==> CWD (1) /geo/series/GSE202nnn/GSE202497/suppl ... done.\n",
      "==> SIZE GSE202497_raw.h5ad.gz ... 238012610\n",
      "==> PASV ... done.    ==> RETR GSE202497_raw.h5ad.gz ... done.\n",
      "Length: 238012610 (227M) (unauthoritative)\n",
      "\n",
      "GSE202497_raw.h5ad. 100%[===================>] 226.99M  25.7MB/s    in 28s     \n",
      "\n",
      "2023-10-24 09:39:25 (8.23 MB/s) - ‘/cellar/users/aklie/data/datasets/Zhu2023_sc-islet_scRNA-seq/annotation/GSE202497_raw.h5ad.gz’ saved [238012610]\n",
      "\n"
     ]
    }
   ],
   "source": [
    "# wget the files to the correct directories\n",
    "!wget -P  {annotation_dir} {barcodes}\n",
    "!wget -P  {annotation_dir} {genes}\n",
    "!wget -P  {annotation_dir} {matrix}\n",
    "!wget -P  {annotation_dir} {cell_clustering}\n",
    "!wget -P  {annotation_dir} {raw_h5ad}"
   ]
  },
  {
   "attachments": {},
   "cell_type": "markdown",
   "metadata": {},
   "source": [
    "# DONE!"
   ]
  },
  {
   "attachments": {},
   "cell_type": "markdown",
   "metadata": {},
   "source": [
    "---"
   ]
  }
 ],
 "metadata": {
  "kernelspec": {
   "display_name": "Python 3.7 get_data",
   "language": "python",
   "name": "get_data"
  },
  "orig_nbformat": 4
 },
 "nbformat": 4,
 "nbformat_minor": 2
}
