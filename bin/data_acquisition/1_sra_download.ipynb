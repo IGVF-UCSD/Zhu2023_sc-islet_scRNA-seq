{
 "cells": [
  {
   "attachments": {},
   "cell_type": "markdown",
   "metadata": {},
   "source": [
    "# Set-up"
   ]
  },
  {
   "cell_type": "code",
   "execution_count": 11,
   "metadata": {},
   "outputs": [],
   "source": [
    "import os\n",
    "from tqdm.autonotebook import tqdm\n",
    "from pysradb.sraweb import SRAweb"
   ]
  },
  {
   "cell_type": "code",
   "execution_count": 12,
   "metadata": {},
   "outputs": [],
   "source": [
    "# Choose the current dataset we are working with\n",
    "dataset_name = \"Zhu2023_sc-islet_scRNA-seq\"\n",
    "srp_id = \"SRP374217\""
   ]
  },
  {
   "cell_type": "code",
   "execution_count": 19,
   "metadata": {},
   "outputs": [
    {
     "data": {
      "text/plain": [
       "('/cellar/users/aklie/data/datasets',\n",
       " '/cellar/users/aklie/data/datasets/Zhu2023_sc-islet_scRNA-seq/bin/data_acquisition',\n",
       " '/cellar/users/aklie/data/datasets/Zhu2023_sc-islet_scRNA-seq/fastq/24Oct23',\n",
       " '/cellar/users/aklie/data/datasets/Zhu2023_sc-islet_scRNA-seq/metadata/24Oct23')"
      ]
     },
     "execution_count": 19,
     "metadata": {},
     "output_type": "execute_result"
    }
   ],
   "source": [
    "# Set-up directories\n",
    "base_dir = \"/cellar/users/aklie/data/datasets\"\n",
    "cwd = os.path.join(base_dir, dataset_name, \"bin\", \"data_acquisition\")\n",
    "fastq_dir = os.path.join(base_dir,  dataset_name, \"fastq\", \"24Oct23\")\n",
    "metadata_dir = os.path.join(base_dir, dataset_name, \"metadata\", \"24Oct23\")\n",
    "base_dir, cwd, fastq_dir, metadata_dir"
   ]
  },
  {
   "cell_type": "code",
   "execution_count": 23,
   "metadata": {},
   "outputs": [],
   "source": [
    "# If fastq_dir does not exist, create it\n",
    "if not os.path.exists(fastq_dir):\n",
    "    os.makedirs(fastq_dir)"
   ]
  },
  {
   "cell_type": "code",
   "execution_count": 20,
   "metadata": {},
   "outputs": [],
   "source": [
    "# Connect to SRA\n",
    "db = SRAweb()"
   ]
  },
  {
   "attachments": {},
   "cell_type": "markdown",
   "metadata": {},
   "source": [
    "# Get metadata"
   ]
  },
  {
   "cell_type": "code",
   "execution_count": 21,
   "metadata": {},
   "outputs": [],
   "source": [
    "# Grab the metadata for the SRP\n",
    "metadata = db.sra_metadata(srp_id, detailed=True)"
   ]
  },
  {
   "cell_type": "code",
   "execution_count": 22,
   "metadata": {},
   "outputs": [],
   "source": [
    "# Save the metadata and the list of srr ids\n",
    "metadata.to_csv(os.path.join(metadata_dir, f\"{srp_id}_metadata.tsv\"), index=False, sep=\"\\t\")\n",
    "metadata[\"run_accession\"].to_csv(os.path.join(metadata_dir, f\"{srp_id}_srr_ids.txt\"), index=False, header=False)"
   ]
  },
  {
   "cell_type": "code",
   "execution_count": 24,
   "metadata": {},
   "outputs": [
    {
     "data": {
      "text/html": [
       "<div>\n",
       "<style scoped>\n",
       "    .dataframe tbody tr th:only-of-type {\n",
       "        vertical-align: middle;\n",
       "    }\n",
       "\n",
       "    .dataframe tbody tr th {\n",
       "        vertical-align: top;\n",
       "    }\n",
       "\n",
       "    .dataframe thead th {\n",
       "        text-align: right;\n",
       "    }\n",
       "</style>\n",
       "<table border=\"1\" class=\"dataframe\">\n",
       "  <thead>\n",
       "    <tr style=\"text-align: right;\">\n",
       "      <th></th>\n",
       "      <th>run_accession</th>\n",
       "      <th>study_accession</th>\n",
       "      <th>study_title</th>\n",
       "      <th>experiment_accession</th>\n",
       "      <th>experiment_title</th>\n",
       "      <th>experiment_desc</th>\n",
       "      <th>organism_taxid</th>\n",
       "      <th>organism_name</th>\n",
       "      <th>library_name</th>\n",
       "      <th>library_strategy</th>\n",
       "      <th>...</th>\n",
       "      <th>gcp_access_type</th>\n",
       "      <th>experiment_alias</th>\n",
       "      <th>source_name</th>\n",
       "      <th>day</th>\n",
       "      <th>ena_fastq_http</th>\n",
       "      <th>ena_fastq_http_1</th>\n",
       "      <th>ena_fastq_http_2</th>\n",
       "      <th>ena_fastq_ftp</th>\n",
       "      <th>ena_fastq_ftp_1</th>\n",
       "      <th>ena_fastq_ftp_2</th>\n",
       "    </tr>\n",
       "  </thead>\n",
       "  <tbody>\n",
       "    <tr>\n",
       "      <th>0</th>\n",
       "      <td>SRR19140222</td>\n",
       "      <td>SRP374217</td>\n",
       "      <td>Improving stem cell-derived pancreatic islets ...</td>\n",
       "      <td>SRX15207313</td>\n",
       "      <td>GSM6123268: H1-D39_S8; Homo sapiens; RNA-Seq</td>\n",
       "      <td>GSM6123268: H1-D39_S8; Homo sapiens; RNA-Seq</td>\n",
       "      <td>9606</td>\n",
       "      <td>Homo sapiens</td>\n",
       "      <td>GSM6123268</td>\n",
       "      <td>RNA-Seq</td>\n",
       "      <td>...</td>\n",
       "      <td>gcp identity</td>\n",
       "      <td>&lt;NA&gt;</td>\n",
       "      <td>Islets</td>\n",
       "      <td>D32</td>\n",
       "      <td>&lt;NA&gt;</td>\n",
       "      <td>http://ftp.sra.ebi.ac.uk/vol1/fastq/SRR191/022...</td>\n",
       "      <td>http://ftp.sra.ebi.ac.uk/vol1/fastq/SRR191/022...</td>\n",
       "      <td>&lt;NA&gt;</td>\n",
       "      <td>era-fasp@fasp.sra.ebi.ac.uk:vol1/fastq/SRR191/...</td>\n",
       "      <td>era-fasp@fasp.sra.ebi.ac.uk:vol1/fastq/SRR191/...</td>\n",
       "    </tr>\n",
       "    <tr>\n",
       "      <th>1</th>\n",
       "      <td>SRR19140223</td>\n",
       "      <td>SRP374217</td>\n",
       "      <td>Improving stem cell-derived pancreatic islets ...</td>\n",
       "      <td>SRX15207312</td>\n",
       "      <td>GSM6123267: H1-D32_S6; Homo sapiens; RNA-Seq</td>\n",
       "      <td>GSM6123267: H1-D32_S6; Homo sapiens; RNA-Seq</td>\n",
       "      <td>9606</td>\n",
       "      <td>Homo sapiens</td>\n",
       "      <td>GSM6123267</td>\n",
       "      <td>RNA-Seq</td>\n",
       "      <td>...</td>\n",
       "      <td>gcp identity</td>\n",
       "      <td>&lt;NA&gt;</td>\n",
       "      <td>Islets</td>\n",
       "      <td>D32</td>\n",
       "      <td>&lt;NA&gt;</td>\n",
       "      <td>http://ftp.sra.ebi.ac.uk/vol1/fastq/SRR191/023...</td>\n",
       "      <td>http://ftp.sra.ebi.ac.uk/vol1/fastq/SRR191/023...</td>\n",
       "      <td>&lt;NA&gt;</td>\n",
       "      <td>era-fasp@fasp.sra.ebi.ac.uk:vol1/fastq/SRR191/...</td>\n",
       "      <td>era-fasp@fasp.sra.ebi.ac.uk:vol1/fastq/SRR191/...</td>\n",
       "    </tr>\n",
       "    <tr>\n",
       "      <th>2</th>\n",
       "      <td>SRR19140224</td>\n",
       "      <td>SRP374217</td>\n",
       "      <td>Improving stem cell-derived pancreatic islets ...</td>\n",
       "      <td>SRX15207311</td>\n",
       "      <td>GSM6123266: H1-D21_S4; Homo sapiens; RNA-Seq</td>\n",
       "      <td>GSM6123266: H1-D21_S4; Homo sapiens; RNA-Seq</td>\n",
       "      <td>9606</td>\n",
       "      <td>Homo sapiens</td>\n",
       "      <td>GSM6123266</td>\n",
       "      <td>RNA-Seq</td>\n",
       "      <td>...</td>\n",
       "      <td>gcp identity</td>\n",
       "      <td>&lt;NA&gt;</td>\n",
       "      <td>Islets</td>\n",
       "      <td>D21</td>\n",
       "      <td>&lt;NA&gt;</td>\n",
       "      <td>http://ftp.sra.ebi.ac.uk/vol1/fastq/SRR191/024...</td>\n",
       "      <td>http://ftp.sra.ebi.ac.uk/vol1/fastq/SRR191/024...</td>\n",
       "      <td>&lt;NA&gt;</td>\n",
       "      <td>era-fasp@fasp.sra.ebi.ac.uk:vol1/fastq/SRR191/...</td>\n",
       "      <td>era-fasp@fasp.sra.ebi.ac.uk:vol1/fastq/SRR191/...</td>\n",
       "    </tr>\n",
       "    <tr>\n",
       "      <th>3</th>\n",
       "      <td>SRR19140225</td>\n",
       "      <td>SRP374217</td>\n",
       "      <td>Improving stem cell-derived pancreatic islets ...</td>\n",
       "      <td>SRX15207310</td>\n",
       "      <td>GSM6123265: Hs_hESC_beta_cells_differentiation...</td>\n",
       "      <td>GSM6123265: Hs_hESC_beta_cells_differentiation...</td>\n",
       "      <td>9606</td>\n",
       "      <td>Homo sapiens</td>\n",
       "      <td>GSM6123265</td>\n",
       "      <td>RNA-Seq</td>\n",
       "      <td>...</td>\n",
       "      <td>gcp identity</td>\n",
       "      <td>&lt;NA&gt;</td>\n",
       "      <td>Islets</td>\n",
       "      <td>D14</td>\n",
       "      <td>&lt;NA&gt;</td>\n",
       "      <td>http://ftp.sra.ebi.ac.uk/vol1/fastq/SRR191/025...</td>\n",
       "      <td>http://ftp.sra.ebi.ac.uk/vol1/fastq/SRR191/025...</td>\n",
       "      <td>&lt;NA&gt;</td>\n",
       "      <td>era-fasp@fasp.sra.ebi.ac.uk:vol1/fastq/SRR191/...</td>\n",
       "      <td>era-fasp@fasp.sra.ebi.ac.uk:vol1/fastq/SRR191/...</td>\n",
       "    </tr>\n",
       "    <tr>\n",
       "      <th>4</th>\n",
       "      <td>SRR19140226</td>\n",
       "      <td>SRP374217</td>\n",
       "      <td>Improving stem cell-derived pancreatic islets ...</td>\n",
       "      <td>SRX15207309</td>\n",
       "      <td>GSM6123264: HZ144_D11_S11; Homo sapiens; RNA-Seq</td>\n",
       "      <td>GSM6123264: HZ144_D11_S11; Homo sapiens; RNA-Seq</td>\n",
       "      <td>9606</td>\n",
       "      <td>Homo sapiens</td>\n",
       "      <td>GSM6123264</td>\n",
       "      <td>RNA-Seq</td>\n",
       "      <td>...</td>\n",
       "      <td>gcp identity</td>\n",
       "      <td>&lt;NA&gt;</td>\n",
       "      <td>Islets</td>\n",
       "      <td>D11</td>\n",
       "      <td>&lt;NA&gt;</td>\n",
       "      <td>http://ftp.sra.ebi.ac.uk/vol1/fastq/SRR191/026...</td>\n",
       "      <td>http://ftp.sra.ebi.ac.uk/vol1/fastq/SRR191/026...</td>\n",
       "      <td>&lt;NA&gt;</td>\n",
       "      <td>era-fasp@fasp.sra.ebi.ac.uk:vol1/fastq/SRR191/...</td>\n",
       "      <td>era-fasp@fasp.sra.ebi.ac.uk:vol1/fastq/SRR191/...</td>\n",
       "    </tr>\n",
       "  </tbody>\n",
       "</table>\n",
       "<p>5 rows × 50 columns</p>\n",
       "</div>"
      ],
      "text/plain": [
       "  run_accession study_accession  \\\n",
       "0   SRR19140222       SRP374217   \n",
       "1   SRR19140223       SRP374217   \n",
       "2   SRR19140224       SRP374217   \n",
       "3   SRR19140225       SRP374217   \n",
       "4   SRR19140226       SRP374217   \n",
       "\n",
       "                                         study_title experiment_accession  \\\n",
       "0  Improving stem cell-derived pancreatic islets ...          SRX15207313   \n",
       "1  Improving stem cell-derived pancreatic islets ...          SRX15207312   \n",
       "2  Improving stem cell-derived pancreatic islets ...          SRX15207311   \n",
       "3  Improving stem cell-derived pancreatic islets ...          SRX15207310   \n",
       "4  Improving stem cell-derived pancreatic islets ...          SRX15207309   \n",
       "\n",
       "                                    experiment_title  \\\n",
       "0       GSM6123268: H1-D39_S8; Homo sapiens; RNA-Seq   \n",
       "1       GSM6123267: H1-D32_S6; Homo sapiens; RNA-Seq   \n",
       "2       GSM6123266: H1-D21_S4; Homo sapiens; RNA-Seq   \n",
       "3  GSM6123265: Hs_hESC_beta_cells_differentiation...   \n",
       "4   GSM6123264: HZ144_D11_S11; Homo sapiens; RNA-Seq   \n",
       "\n",
       "                                     experiment_desc organism_taxid  \\\n",
       "0       GSM6123268: H1-D39_S8; Homo sapiens; RNA-Seq           9606   \n",
       "1       GSM6123267: H1-D32_S6; Homo sapiens; RNA-Seq           9606   \n",
       "2       GSM6123266: H1-D21_S4; Homo sapiens; RNA-Seq           9606   \n",
       "3  GSM6123265: Hs_hESC_beta_cells_differentiation...           9606   \n",
       "4   GSM6123264: HZ144_D11_S11; Homo sapiens; RNA-Seq           9606   \n",
       "\n",
       "  organism_name library_name library_strategy  ... gcp_access_type  \\\n",
       "0  Homo sapiens   GSM6123268          RNA-Seq  ...    gcp identity   \n",
       "1  Homo sapiens   GSM6123267          RNA-Seq  ...    gcp identity   \n",
       "2  Homo sapiens   GSM6123266          RNA-Seq  ...    gcp identity   \n",
       "3  Homo sapiens   GSM6123265          RNA-Seq  ...    gcp identity   \n",
       "4  Homo sapiens   GSM6123264          RNA-Seq  ...    gcp identity   \n",
       "\n",
       "  experiment_alias source_name  day ena_fastq_http  \\\n",
       "0             <NA>      Islets  D32           <NA>   \n",
       "1             <NA>      Islets  D32           <NA>   \n",
       "2             <NA>      Islets  D21           <NA>   \n",
       "3             <NA>      Islets  D14           <NA>   \n",
       "4             <NA>      Islets  D11           <NA>   \n",
       "\n",
       "                                    ena_fastq_http_1  \\\n",
       "0  http://ftp.sra.ebi.ac.uk/vol1/fastq/SRR191/022...   \n",
       "1  http://ftp.sra.ebi.ac.uk/vol1/fastq/SRR191/023...   \n",
       "2  http://ftp.sra.ebi.ac.uk/vol1/fastq/SRR191/024...   \n",
       "3  http://ftp.sra.ebi.ac.uk/vol1/fastq/SRR191/025...   \n",
       "4  http://ftp.sra.ebi.ac.uk/vol1/fastq/SRR191/026...   \n",
       "\n",
       "                                    ena_fastq_http_2 ena_fastq_ftp  \\\n",
       "0  http://ftp.sra.ebi.ac.uk/vol1/fastq/SRR191/022...          <NA>   \n",
       "1  http://ftp.sra.ebi.ac.uk/vol1/fastq/SRR191/023...          <NA>   \n",
       "2  http://ftp.sra.ebi.ac.uk/vol1/fastq/SRR191/024...          <NA>   \n",
       "3  http://ftp.sra.ebi.ac.uk/vol1/fastq/SRR191/025...          <NA>   \n",
       "4  http://ftp.sra.ebi.ac.uk/vol1/fastq/SRR191/026...          <NA>   \n",
       "\n",
       "                                     ena_fastq_ftp_1  \\\n",
       "0  era-fasp@fasp.sra.ebi.ac.uk:vol1/fastq/SRR191/...   \n",
       "1  era-fasp@fasp.sra.ebi.ac.uk:vol1/fastq/SRR191/...   \n",
       "2  era-fasp@fasp.sra.ebi.ac.uk:vol1/fastq/SRR191/...   \n",
       "3  era-fasp@fasp.sra.ebi.ac.uk:vol1/fastq/SRR191/...   \n",
       "4  era-fasp@fasp.sra.ebi.ac.uk:vol1/fastq/SRR191/...   \n",
       "\n",
       "                                     ena_fastq_ftp_2  \n",
       "0  era-fasp@fasp.sra.ebi.ac.uk:vol1/fastq/SRR191/...  \n",
       "1  era-fasp@fasp.sra.ebi.ac.uk:vol1/fastq/SRR191/...  \n",
       "2  era-fasp@fasp.sra.ebi.ac.uk:vol1/fastq/SRR191/...  \n",
       "3  era-fasp@fasp.sra.ebi.ac.uk:vol1/fastq/SRR191/...  \n",
       "4  era-fasp@fasp.sra.ebi.ac.uk:vol1/fastq/SRR191/...  \n",
       "\n",
       "[5 rows x 50 columns]"
      ]
     },
     "execution_count": 24,
     "metadata": {},
     "output_type": "execute_result"
    }
   ],
   "source": [
    "metadata"
   ]
  },
  {
   "attachments": {},
   "cell_type": "markdown",
   "metadata": {},
   "source": [
    "# Download non-diabetic samples (`sra` files)"
   ]
  },
  {
   "cell_type": "code",
   "execution_count": 11,
   "metadata": {},
   "outputs": [
    {
     "name": "stdout",
     "output_type": "stream",
     "text": [
      "Checking download URLs\n"
     ]
    },
    {
     "name": "stdout",
     "output_type": "stream",
     "text": [
      "The following files will be downloaded: \n",
      "\n",
      "run_accession study_accession experiment_accession public_url                                                                                                  download_url                                                                                            out_dir                                                                            filesize\n",
      "SRR19140210   SRP374215       SRX15207301          https://sra-downloadb.be-md.ncbi.nlm.nih.gov/sos1/sra-pub-zq-38/SRR019/19140/SRR19140210/SRR19140210.lite.1 ftp://ftp-trace.ncbi.nlm.nih.gov/sra/sra-instant/reads/ByRun/sra/SRR/SRR191/SRR19140210/SRR19140210.sra /cellar/users/aklie/data/igvf/beta_cell_networks/fastq/Zhu2023_sc-islet_snATAC-seq  5.4 GB \n",
      "SRR19140211   SRP374215       SRX15207300          https://sra-downloadb.be-md.ncbi.nlm.nih.gov/sos1/sra-pub-zq-38/SRR019/19140/SRR19140211/SRR19140211.lite.1 ftp://ftp-trace.ncbi.nlm.nih.gov/sra/sra-instant/reads/ByRun/sra/SRR/SRR191/SRR19140211/SRR19140211.sra /cellar/users/aklie/data/igvf/beta_cell_networks/fastq/Zhu2023_sc-islet_snATAC-seq  7.1 GB \n",
      "SRR19140212   SRP374215       SRX15207299          https://sra-downloadb.be-md.ncbi.nlm.nih.gov/sos2/sra-pub-zq-20/SRR019/19140/SRR19140212/SRR19140212.lite.1 ftp://ftp-trace.ncbi.nlm.nih.gov/sra/sra-instant/reads/ByRun/sra/SRR/SRR191/SRR19140212/SRR19140212.sra /cellar/users/aklie/data/igvf/beta_cell_networks/fastq/Zhu2023_sc-islet_snATAC-seq 13.0 GB \n",
      "SRR19140213   SRP374215       SRX15207298          https://sra-downloadb.be-md.ncbi.nlm.nih.gov/sos1/sra-pub-zq-38/SRR019/19140/SRR19140213/SRR19140213.lite.1 ftp://ftp-trace.ncbi.nlm.nih.gov/sra/sra-instant/reads/ByRun/sra/SRR/SRR191/SRR19140213/SRR19140213.sra /cellar/users/aklie/data/igvf/beta_cell_networks/fastq/Zhu2023_sc-islet_snATAC-seq 24.4 GB \n",
      "SRR19140214   SRP374215       SRX15207297                                                 https://sra-pub-run-odp.s3.amazonaws.com/sra/SRR19140214/SRR19140214 ftp://ftp-trace.ncbi.nlm.nih.gov/sra/sra-instant/reads/ByRun/sra/SRR/SRR191/SRR19140214/SRR19140214.sra /cellar/users/aklie/data/igvf/beta_cell_networks/fastq/Zhu2023_sc-islet_snATAC-seq 44.6 GB \n",
      "\n",
      "\n",
      "Total size: 94.5 GB\n",
      "\n",
      "\n",
      "\n",
      "\n"
     ]
    },
    {
     "name": "stderr",
     "output_type": "stream",
     "text": [
      " 80%|████████  | 4/5 [16:31<04:07, 247.76s/it]"
     ]
    }
   ],
   "source": [
    "db.download(df=metadata, out_dir=fastq_dir)"
   ]
  },
  {
   "attachments": {},
   "cell_type": "markdown",
   "metadata": {},
   "source": [
    "# Convert to `fastq` files"
   ]
  },
  {
   "cell_type": "code",
   "execution_count": null,
   "metadata": {},
   "outputs": [],
   "source": [
    "import glob\n",
    "import subprocess"
   ]
  },
  {
   "cell_type": "code",
   "execution_count": 64,
   "metadata": {},
   "outputs": [],
   "source": [
    "tmp_dir = \"/cellar/users/aklie/tmp/fastq-dump\"\n",
    "gzip = True\n",
    "split_files = True\n",
    "threads = 4"
   ]
  },
  {
   "cell_type": "code",
   "execution_count": 72,
   "metadata": {},
   "outputs": [
    {
     "name": "stdout",
     "output_type": "stream",
     "text": [
      "parallel-fastq-dump --threads 4 --outdir /cellar/users/aklie/data/igvf/beta_cell_networks/fastq/Wang2023_islet_snATAC-seq/SRP311849/SRX10424698 --split-files --tmpdir /cellar/users/aklie/tmp/fastq-dump --gzip -s /cellar/users/aklie/data/igvf/beta_cell_networks/fastq/Wang2023_islet_snATAC-seq/SRP311849/SRX10424698/SRR14048750.sra\n"
     ]
    }
   ],
   "source": [
    "# Loop through and print out each SRA download file within the subdirectories of the fastq_dir\n",
    "# Run the following command parallel-fastq-dump --threads 4 --outdir . --split-files --tmpdir $tmp_dir --gzip -s SRR14048750.sra\n",
    "for sra_file in glob.glob(os.path.join(fastq_dir, srp_id, \"*\", \"*.sra\")):\n",
    "    sra_dir = os.path.dirname(sra_file)\n",
    "    if gzip:\n",
    "        cmd = f\"parallel-fastq-dump --threads {threads} --outdir {sra_dir} --split-files --tmpdir {tmp_dir} --gzip -s {sra_file}\"\n",
    "    else:\n",
    "        cmd = f\"parallel-fastq-dump --threads {threads} --outdir {sra_dir} --split-files --tmpdir {tmp_dir} -s {sra_file}\"\n",
    "    print(cmd)\n",
    "    \n",
    "    # Check to see if the files have already been downloaded\n",
    "    if len(glob.glob(os.path.join(sra_dir, \"*.fastq*\"))) > 0:\n",
    "        print(f\"Files already downloaded for {sra_dir}\")\n",
    "    else:\n",
    "        subprocess.run(cmd, shell=True)"
   ]
  },
  {
   "cell_type": "code",
   "execution_count": 65,
   "metadata": {},
   "outputs": [
    {
     "name": "stderr",
     "output_type": "stream",
     "text": [
      "100%|██████████| 1/1 [00:00<00:00, 13662.23it/s]\n"
     ]
    }
   ],
   "source": [
    "# Loop through and print out each SRA download file within the subdirectories of the fastq_dir\n",
    "for file in tqdm(os.listdir(fastq_dir)):\n",
    "    if file.endswith(\".sra\"):\n",
    "        file_path = os.path.join(fastq_dir, file)\n",
    "        print(file_path)"
   ]
  },
  {
   "attachments": {},
   "cell_type": "markdown",
   "metadata": {},
   "source": [
    "# DONE!"
   ]
  },
  {
   "attachments": {},
   "cell_type": "markdown",
   "metadata": {},
   "source": [
    "---"
   ]
  }
 ],
 "metadata": {
  "kernelspec": {
   "display_name": "Python 3.7 get_data",
   "language": "python",
   "name": "get_data"
  },
  "language_info": {
   "codemirror_mode": {
    "name": "ipython",
    "version": 3
   },
   "file_extension": ".py",
   "mimetype": "text/x-python",
   "name": "python",
   "nbconvert_exporter": "python",
   "pygments_lexer": "ipython3",
   "version": "3.7.12"
  },
  "orig_nbformat": 4
 },
 "nbformat": 4,
 "nbformat_minor": 2
}
